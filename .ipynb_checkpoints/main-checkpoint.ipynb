{
 "cells": [
  {
   "cell_type": "code",
   "execution_count": 3,
   "metadata": {},
   "outputs": [],
   "source": [
    "# Load libraries\n",
    "import pandas as pd\n",
    "from pandas.plotting import scatter_matrix\n",
    "import matplotlib.pyplot as plt\n",
    "from sklearn import model_selection\n",
    "from sklearn.metrics import classification_report\n",
    "from sklearn.metrics import confusion_matrix\n",
    "from sklearn.metrics import accuracy_score\n",
    "from sklearn.linear_model import LogisticRegression\n",
    "from sklearn.tree import DecisionTreeClassifier\n",
    "from sklearn.neighbors import KNeighborsClassifier\n",
    "from sklearn.discriminant_analysis import LinearDiscriminantAnalysis\n",
    "from sklearn.naive_bayes import GaussianNB\n",
    "from sklearn.svm import SVC\n",
    "\n",
    "import warnings\n",
    "warnings.filterwarnings('ignore')"
   ]
  },
  {
   "cell_type": "code",
   "execution_count": 4,
   "metadata": {},
   "outputs": [],
   "source": [
    "# Load dataset\n",
    "dataset = pd.read_csv(\"data.csv\")"
   ]
  },
  {
   "cell_type": "code",
   "execution_count": 5,
   "metadata": {},
   "outputs": [
    {
     "data": {
      "text/html": [
       "<div>\n",
       "<style scoped>\n",
       "    .dataframe tbody tr th:only-of-type {\n",
       "        vertical-align: middle;\n",
       "    }\n",
       "\n",
       "    .dataframe tbody tr th {\n",
       "        vertical-align: top;\n",
       "    }\n",
       "\n",
       "    .dataframe thead th {\n",
       "        text-align: right;\n",
       "    }\n",
       "</style>\n",
       "<table border=\"1\" class=\"dataframe\">\n",
       "  <thead>\n",
       "    <tr style=\"text-align: right;\">\n",
       "      <th></th>\n",
       "      <th>CustomerType</th>\n",
       "      <th>Gender</th>\n",
       "      <th>Age</th>\n",
       "      <th>UnitPrice</th>\n",
       "      <th>Rating</th>\n",
       "      <th>ItemName</th>\n",
       "    </tr>\n",
       "  </thead>\n",
       "  <tbody>\n",
       "    <tr>\n",
       "      <th>57</th>\n",
       "      <td>0</td>\n",
       "      <td>0</td>\n",
       "      <td>1</td>\n",
       "      <td>20</td>\n",
       "      <td>6.6</td>\n",
       "      <td>BerryBlonde</td>\n",
       "    </tr>\n",
       "    <tr>\n",
       "      <th>440</th>\n",
       "      <td>1</td>\n",
       "      <td>0</td>\n",
       "      <td>1</td>\n",
       "      <td>35</td>\n",
       "      <td>8.1</td>\n",
       "      <td>CoconutIsland</td>\n",
       "    </tr>\n",
       "    <tr>\n",
       "      <th>898</th>\n",
       "      <td>1</td>\n",
       "      <td>0</td>\n",
       "      <td>1</td>\n",
       "      <td>10</td>\n",
       "      <td>5.3</td>\n",
       "      <td>Chocolate</td>\n",
       "    </tr>\n",
       "    <tr>\n",
       "      <th>314</th>\n",
       "      <td>1</td>\n",
       "      <td>1</td>\n",
       "      <td>1</td>\n",
       "      <td>35</td>\n",
       "      <td>4.4</td>\n",
       "      <td>HeavenlyHazelnut</td>\n",
       "    </tr>\n",
       "    <tr>\n",
       "      <th>545</th>\n",
       "      <td>1</td>\n",
       "      <td>0</td>\n",
       "      <td>3</td>\n",
       "      <td>55</td>\n",
       "      <td>4.9</td>\n",
       "      <td>NutsPeanutButter</td>\n",
       "    </tr>\n",
       "    <tr>\n",
       "      <th>943</th>\n",
       "      <td>0</td>\n",
       "      <td>0</td>\n",
       "      <td>1</td>\n",
       "      <td>10</td>\n",
       "      <td>5.3</td>\n",
       "      <td>Chocolate</td>\n",
       "    </tr>\n",
       "    <tr>\n",
       "      <th>236</th>\n",
       "      <td>0</td>\n",
       "      <td>0</td>\n",
       "      <td>1</td>\n",
       "      <td>20</td>\n",
       "      <td>4.9</td>\n",
       "      <td>HeavenlyHazelnut</td>\n",
       "    </tr>\n",
       "    <tr>\n",
       "      <th>593</th>\n",
       "      <td>1</td>\n",
       "      <td>1</td>\n",
       "      <td>1</td>\n",
       "      <td>55</td>\n",
       "      <td>4.8</td>\n",
       "      <td>NutsPeanutButter</td>\n",
       "    </tr>\n",
       "    <tr>\n",
       "      <th>977</th>\n",
       "      <td>1</td>\n",
       "      <td>0</td>\n",
       "      <td>1</td>\n",
       "      <td>10</td>\n",
       "      <td>4.9</td>\n",
       "      <td>Chocolate</td>\n",
       "    </tr>\n",
       "    <tr>\n",
       "      <th>607</th>\n",
       "      <td>1</td>\n",
       "      <td>1</td>\n",
       "      <td>2</td>\n",
       "      <td>45</td>\n",
       "      <td>6.4</td>\n",
       "      <td>NutsPeanutButter</td>\n",
       "    </tr>\n",
       "  </tbody>\n",
       "</table>\n",
       "</div>"
      ],
      "text/plain": [
       "     CustomerType  Gender  Age  UnitPrice  Rating          ItemName\n",
       "57              0       0    1         20     6.6       BerryBlonde\n",
       "440             1       0    1         35     8.1     CoconutIsland\n",
       "898             1       0    1         10     5.3         Chocolate\n",
       "314             1       1    1         35     4.4  HeavenlyHazelnut\n",
       "545             1       0    3         55     4.9  NutsPeanutButter\n",
       "943             0       0    1         10     5.3         Chocolate\n",
       "236             0       0    1         20     4.9  HeavenlyHazelnut\n",
       "593             1       1    1         55     4.8  NutsPeanutButter\n",
       "977             1       0    1         10     4.9         Chocolate\n",
       "607             1       1    2         45     6.4  NutsPeanutButter"
      ]
     },
     "execution_count": 5,
     "metadata": {},
     "output_type": "execute_result"
    }
   ],
   "source": [
    "# dataset = dataset.drop(columns = ['UnitPrice','Rating'])\n",
    "dataset.head()\n",
    "dataset.sample(10)"
   ]
  },
  {
   "cell_type": "code",
   "execution_count": 6,
   "metadata": {},
   "outputs": [
    {
     "name": "stdout",
     "output_type": "stream",
     "text": [
      "<class 'pandas.core.frame.DataFrame'>\n",
      "RangeIndex: 1000 entries, 0 to 999\n",
      "Data columns (total 6 columns):\n",
      "CustomerType    1000 non-null int64\n",
      "Gender          1000 non-null int64\n",
      "Age             1000 non-null int64\n",
      "UnitPrice       1000 non-null int64\n",
      "Rating          1000 non-null float64\n",
      "ItemName        1000 non-null object\n",
      "dtypes: float64(1), int64(4), object(1)\n",
      "memory usage: 47.0+ KB\n"
     ]
    }
   ],
   "source": [
    "# shape\n",
    "dataset.info()"
   ]
  },
  {
   "cell_type": "code",
   "execution_count": 7,
   "metadata": {},
   "outputs": [
    {
     "name": "stdout",
     "output_type": "stream",
     "text": [
      "(1000, 6)\n",
      "       CustomerType      Gender          Age    UnitPrice       Rating\n",
      "count    1000.00000  1000.00000  1000.000000  1000.000000  1000.000000\n",
      "mean        0.50000     0.50000     1.373000    34.430000     6.971100\n",
      "std         0.50025     0.50025     0.888065    14.421619     1.719672\n",
      "min         0.00000     0.00000     0.000000    10.000000     4.000000\n",
      "25%         0.00000     0.00000     1.000000    20.000000     5.500000\n",
      "50%         0.50000     0.50000     1.000000    35.000000     7.000000\n",
      "75%         1.00000     1.00000     2.000000    45.000000     8.500000\n",
      "max         1.00000     1.00000     3.000000    55.000000    10.000000\n"
     ]
    }
   ],
   "source": [
    "# shape\n",
    "print(dataset.shape)\n",
    "# dataset descriptions\n",
    "print(dataset.describe())"
   ]
  },
  {
   "cell_type": "code",
   "execution_count": 8,
   "metadata": {},
   "outputs": [
    {
     "data": {
      "text/plain": [
       "ItemName\n",
       "BerryBlonde         159\n",
       "Chocolate           196\n",
       "CoconutIsland       160\n",
       "HeavenlyHazelnut    160\n",
       "NutsPeanutButter    159\n",
       "WickedChocolate     166\n",
       "dtype: int64"
      ]
     },
     "execution_count": 8,
     "metadata": {},
     "output_type": "execute_result"
    }
   ],
   "source": [
    "# class distribution\n",
    "dataset.groupby('ItemName').size()"
   ]
  },
  {
   "cell_type": "code",
   "execution_count": 9,
   "metadata": {},
   "outputs": [
    {
     "data": {
      "image/png": "[encoded data removed]",
      "text/plain": [
       "<Figure size 432x288 with 9 Axes>"
      ]
     },
     "metadata": {
      "needs_background": "light"
     },
     "output_type": "display_data"
    }
   ],
   "source": [
    "# box and whisker plots\n",
    "dataset.plot(kind='box', subplots=True, layout=(3,3), sharex=False, sharey=False)\n",
    "plt.show()"
   ]
  },
  {
   "cell_type": "code",
   "execution_count": 10,
   "metadata": {},
   "outputs": [
    {
     "data": {
      "image/png": "[encoded data removed]",
      "text/plain": [
       "<Figure size 432x288 with 6 Axes>"
      ]
     },
     "metadata": {
      "needs_background": "light"
     },
     "output_type": "display_data"
    }
   ],
   "source": [
    "# histograms\n",
    "dataset.hist()\n",
    "plt.show()"
   ]
  },
  {
   "cell_type": "code",
   "execution_count": 11,
   "metadata": {},
   "outputs": [
    {
     "data": {
      "image/png": "[encoded data removed]",
      "text/plain": [
       "<Figure size 432x288 with 25 Axes>"
      ]
     },
     "metadata": {
      "needs_background": "light"
     },
     "output_type": "display_data"
    }
   ],
   "source": [
    "# scatter plot matrix\n",
    "scatter_matrix(dataset)\n",
    "plt.show()"
   ]
  },
  {
   "cell_type": "code",
   "execution_count": 12,
   "metadata": {},
   "outputs": [],
   "source": [
    "# Split dataset into train, test and validation sets\n",
    "# array = dataset.values\n",
    "# X = array[:,0:4]\n",
    "# Y = array[:,4]\n",
    "# X_train, X_validation, Y_train, Y_validation = model_selection.train_test_split(X, Y, test_size=0.2, random_state=7)"
   ]
  },
  {
   "cell_type": "code",
   "execution_count": 13,
   "metadata": {},
   "outputs": [],
   "source": [
    "# from sklearn.model_selection import train_test_split\n",
    "# train - 70\n",
    "# test - 30\n",
    "X = dataset.drop(columns=['ItemName'])\n",
    "Y = dataset['ItemName']\n",
    "X_train, X_validation, Y_train, Y_validation = model_selection.train_test_split(X, Y, test_size=0.20)"
   ]
  },
  {
   "cell_type": "code",
   "execution_count": 14,
   "metadata": {},
   "outputs": [
    {
     "name": "stdout",
     "output_type": "stream",
     "text": [
      "LR: 0.373750 (0.033284)\n",
      "LDA: 0.445000 (0.041155)\n",
      "KNN: 0.676250 (0.046250)\n",
      "CART: 0.621250 (0.042223)\n",
      "NB: 0.685000 (0.047368)\n",
      "SVM: 0.706250 (0.040408)\n"
     ]
    }
   ],
   "source": [
    "# Building and evaluating  classification Algorithms\n",
    "models = []\n",
    "models.append(('LR', LogisticRegression()))\n",
    "models.append(('LDA', LinearDiscriminantAnalysis()))\n",
    "models.append(('KNN', KNeighborsClassifier()))\n",
    "models.append(('CART', DecisionTreeClassifier()))\n",
    "models.append(('NB', GaussianNB()))\n",
    "models.append(('SVM', SVC()))\n",
    "# evaluate each model in turn\n",
    "results = []\n",
    "names = []\n",
    "for name, model in models:\n",
    "    kfold = model_selection.KFold(n_splits=10, random_state=7)\n",
    "    cv_results = model_selection.cross_val_score(model, X_train, Y_train, cv=kfold, scoring='accuracy')\n",
    "    results.append(cv_results)\n",
    "    names.append(name)\n",
    "    msg = \"%s: %f (%f)\" % (name, cv_results.mean(), cv_results.std())\n",
    "    print(msg)"
   ]
  },
  {
   "cell_type": "code",
   "execution_count": 15,
   "metadata": {},
   "outputs": [
    {
     "data": {
      "image/png": "[encoded data removed]",
      "text/plain": [
       "<Figure size 432x288 with 1 Axes>"
      ]
     },
     "metadata": {
      "needs_background": "light"
     },
     "output_type": "display_data"
    }
   ],
   "source": [
    "# Compare Algorithms\n",
    "fig = plt.figure()\n",
    "fig.suptitle('Algorithm Comparison')\n",
    "ax = fig.add_subplot(111)\n",
    "plt.boxplot(results)\n",
    "ax.set_xticklabels(names)\n",
    "plt.show()"
   ]
  },
  {
   "cell_type": "code",
   "execution_count": 16,
   "metadata": {},
   "outputs": [
    {
     "name": "stdout",
     "output_type": "stream",
     "text": [
      "0.74\n",
      "[[29  0  0  4  0  0]\n",
      " [ 0 39  0  0  2  5]\n",
      " [ 0  0 18  5  9  0]\n",
      " [ 9  0  6 13  0  0]\n",
      " [ 0  3  0  0 27  3]\n",
      " [ 0  4  0  0  2 22]]\n",
      "                  precision    recall  f1-score   support\n",
      "\n",
      "     BerryBlonde       0.76      0.88      0.82        33\n",
      "       Chocolate       0.85      0.85      0.85        46\n",
      "   CoconutIsland       0.75      0.56      0.64        32\n",
      "HeavenlyHazelnut       0.59      0.46      0.52        28\n",
      "NutsPeanutButter       0.68      0.82      0.74        33\n",
      " WickedChocolate       0.73      0.79      0.76        28\n",
      "\n",
      "        accuracy                           0.74       200\n",
      "       macro avg       0.73      0.73      0.72       200\n",
      "    weighted avg       0.74      0.74      0.73       200\n",
      "\n"
     ]
    }
   ],
   "source": [
    "# Make predictions on validation dataset with KNN classifier\n",
    "knn = KNeighborsClassifier()\n",
    "knn.fit(X_train, Y_train)\n",
    "predictions = knn.predict(X_validation)\n",
    "print(accuracy_score(Y_validation, predictions))\n",
    "print(confusion_matrix(Y_validation, predictions))\n",
    "print(classification_report(Y_validation, predictions))"
   ]
  },
  {
   "cell_type": "code",
   "execution_count": 17,
   "metadata": {},
   "outputs": [
    {
     "name": "stdout",
     "output_type": "stream",
     "text": [
      "0.745\n",
      "[[32  0  0  1  0  0]\n",
      " [ 0 36  0  0  0 10]\n",
      " [ 0  0 17  6  9  0]\n",
      " [14  0  5  9  0  0]\n",
      " [ 0  0  0  0 27  6]\n",
      " [ 0  0  0  0  0 28]]\n",
      "                  precision    recall  f1-score   support\n",
      "\n",
      "     BerryBlonde       0.70      0.97      0.81        33\n",
      "       Chocolate       1.00      0.78      0.88        46\n",
      "   CoconutIsland       0.77      0.53      0.63        32\n",
      "HeavenlyHazelnut       0.56      0.32      0.41        28\n",
      "NutsPeanutButter       0.75      0.82      0.78        33\n",
      " WickedChocolate       0.64      1.00      0.78        28\n",
      "\n",
      "        accuracy                           0.74       200\n",
      "       macro avg       0.74      0.74      0.71       200\n",
      "    weighted avg       0.76      0.74      0.73       200\n",
      "\n"
     ]
    }
   ],
   "source": [
    "# Make predictions on validation dataset with SVM classifier\n",
    "SVM = SVC()\n",
    "SVM.fit(X_train, Y_train)\n",
    "predictions = SVM.predict(X_validation)\n",
    "print(accuracy_score(Y_validation, predictions))\n",
    "print(confusion_matrix(Y_validation, predictions))\n",
    "print(classification_report(Y_validation, predictions))"
   ]
  },
  {
   "cell_type": "code",
   "execution_count": 18,
   "metadata": {},
   "outputs": [
    {
     "name": "stdout",
     "output_type": "stream",
     "text": [
      "0.695\n",
      "[[22  0  0 11  0  0]\n",
      " [ 0 39  0  0  3  4]\n",
      " [ 0  0 21  6  5  0]\n",
      " [ 7  0  6 15  0  0]\n",
      " [ 0  3  5  0 24  1]\n",
      " [ 0  7  0  0  3 18]]\n",
      "                  precision    recall  f1-score   support\n",
      "\n",
      "     BerryBlonde       0.76      0.67      0.71        33\n",
      "       Chocolate       0.80      0.85      0.82        46\n",
      "   CoconutIsland       0.66      0.66      0.66        32\n",
      "HeavenlyHazelnut       0.47      0.54      0.50        28\n",
      "NutsPeanutButter       0.69      0.73      0.71        33\n",
      " WickedChocolate       0.78      0.64      0.71        28\n",
      "\n",
      "        accuracy                           0.69       200\n",
      "       macro avg       0.69      0.68      0.68       200\n",
      "    weighted avg       0.70      0.69      0.70       200\n",
      "\n"
     ]
    }
   ],
   "source": [
    "# Make predictions on validation dataset with CART (Decision Tree Classifier)\n",
    "CART =DecisionTreeClassifier()\n",
    "CART.fit(X_train, Y_train)\n",
    "predictions = CART.predict(X_validation)\n",
    "print(accuracy_score(Y_validation, predictions))\n",
    "print(confusion_matrix(Y_validation, predictions))\n",
    "print(classification_report(Y_validation, predictions))"
   ]
  },
  {
   "cell_type": "code",
   "execution_count": 19,
   "metadata": {},
   "outputs": [
    {
     "data": {
      "text/plain": [
       "SVC(C=1.0, cache_size=200, class_weight=None, coef0=0.0,\n",
       "    decision_function_shape='ovr', degree=3, gamma='auto_deprecated',\n",
       "    kernel='rbf', max_iter=-1, probability=False, random_state=None,\n",
       "    shrinking=True, tol=0.001, verbose=False)"
      ]
     },
     "execution_count": 19,
     "metadata": {},
     "output_type": "execute_result"
    }
   ],
   "source": [
    "# model training\n",
    "model.fit(X_train, Y_train)"
   ]
  },
  {
   "cell_type": "code",
   "execution_count": 20,
   "metadata": {},
   "outputs": [],
   "source": [
    "def predict_mpg(config, model):\n",
    "    \n",
    "    if type(config) == dict:\n",
    "        dataset = pd.DataFrame(config)\n",
    "    else:\n",
    "        dataset = config\n",
    "    \n",
    "#     print(prepared_df)\n",
    "    y_pred = model.predict(dataset)\n",
    "    return y_pred\n",
    "    "
   ]
  },
  {
   "cell_type": "code",
   "execution_count": 21,
   "metadata": {},
   "outputs": [
    {
     "data": {
      "text/html": [
       "<div>\n",
       "<style scoped>\n",
       "    .dataframe tbody tr th:only-of-type {\n",
       "        vertical-align: middle;\n",
       "    }\n",
       "\n",
       "    .dataframe tbody tr th {\n",
       "        vertical-align: top;\n",
       "    }\n",
       "\n",
       "    .dataframe thead th {\n",
       "        text-align: right;\n",
       "    }\n",
       "</style>\n",
       "<table border=\"1\" class=\"dataframe\">\n",
       "  <thead>\n",
       "    <tr style=\"text-align: right;\">\n",
       "      <th></th>\n",
       "      <th>CustomerType</th>\n",
       "      <th>Gender</th>\n",
       "      <th>Age</th>\n",
       "      <th>UnitPrice</th>\n",
       "      <th>Rating</th>\n",
       "      <th>ItemName</th>\n",
       "    </tr>\n",
       "  </thead>\n",
       "  <tbody>\n",
       "    <tr>\n",
       "      <th>336</th>\n",
       "      <td>0</td>\n",
       "      <td>0</td>\n",
       "      <td>1</td>\n",
       "      <td>35</td>\n",
       "      <td>7.5</td>\n",
       "      <td>CoconutIsland</td>\n",
       "    </tr>\n",
       "    <tr>\n",
       "      <th>846</th>\n",
       "      <td>1</td>\n",
       "      <td>0</td>\n",
       "      <td>1</td>\n",
       "      <td>45</td>\n",
       "      <td>9.7</td>\n",
       "      <td>Chocolate</td>\n",
       "    </tr>\n",
       "    <tr>\n",
       "      <th>513</th>\n",
       "      <td>0</td>\n",
       "      <td>0</td>\n",
       "      <td>1</td>\n",
       "      <td>55</td>\n",
       "      <td>7.6</td>\n",
       "      <td>NutsPeanutButter</td>\n",
       "    </tr>\n",
       "    <tr>\n",
       "      <th>531</th>\n",
       "      <td>1</td>\n",
       "      <td>0</td>\n",
       "      <td>2</td>\n",
       "      <td>55</td>\n",
       "      <td>7.2</td>\n",
       "      <td>NutsPeanutButter</td>\n",
       "    </tr>\n",
       "    <tr>\n",
       "      <th>818</th>\n",
       "      <td>1</td>\n",
       "      <td>0</td>\n",
       "      <td>0</td>\n",
       "      <td>45</td>\n",
       "      <td>8.4</td>\n",
       "      <td>Chocolate</td>\n",
       "    </tr>\n",
       "    <tr>\n",
       "      <th>892</th>\n",
       "      <td>1</td>\n",
       "      <td>1</td>\n",
       "      <td>1</td>\n",
       "      <td>10</td>\n",
       "      <td>8.6</td>\n",
       "      <td>Chocolate</td>\n",
       "    </tr>\n",
       "    <tr>\n",
       "      <th>783</th>\n",
       "      <td>0</td>\n",
       "      <td>1</td>\n",
       "      <td>0</td>\n",
       "      <td>45</td>\n",
       "      <td>8.8</td>\n",
       "      <td>WickedChocolate</td>\n",
       "    </tr>\n",
       "    <tr>\n",
       "      <th>396</th>\n",
       "      <td>0</td>\n",
       "      <td>1</td>\n",
       "      <td>1</td>\n",
       "      <td>35</td>\n",
       "      <td>4.6</td>\n",
       "      <td>CoconutIsland</td>\n",
       "    </tr>\n",
       "    <tr>\n",
       "      <th>685</th>\n",
       "      <td>1</td>\n",
       "      <td>1</td>\n",
       "      <td>1</td>\n",
       "      <td>45</td>\n",
       "      <td>6.4</td>\n",
       "      <td>WickedChocolate</td>\n",
       "    </tr>\n",
       "    <tr>\n",
       "      <th>312</th>\n",
       "      <td>1</td>\n",
       "      <td>1</td>\n",
       "      <td>1</td>\n",
       "      <td>35</td>\n",
       "      <td>4.4</td>\n",
       "      <td>HeavenlyHazelnut</td>\n",
       "    </tr>\n",
       "  </tbody>\n",
       "</table>\n",
       "</div>"
      ],
      "text/plain": [
       "     CustomerType  Gender  Age  UnitPrice  Rating          ItemName\n",
       "336             0       0    1         35     7.5     CoconutIsland\n",
       "846             1       0    1         45     9.7         Chocolate\n",
       "513             0       0    1         55     7.6  NutsPeanutButter\n",
       "531             1       0    2         55     7.2  NutsPeanutButter\n",
       "818             1       0    0         45     8.4         Chocolate\n",
       "892             1       1    1         10     8.6         Chocolate\n",
       "783             0       1    0         45     8.8   WickedChocolate\n",
       "396             0       1    1         35     4.6     CoconutIsland\n",
       "685             1       1    1         45     6.4   WickedChocolate\n",
       "312             1       1    1         35     4.4  HeavenlyHazelnut"
      ]
     },
     "execution_count": 21,
     "metadata": {},
     "output_type": "execute_result"
    }
   ],
   "source": [
    "dataset.sample(10)"
   ]
  },
  {
   "cell_type": "code",
   "execution_count": 22,
   "metadata": {},
   "outputs": [
    {
     "data": {
      "text/plain": [
       "array(['CoconutIsland'], dtype=object)"
      ]
     },
     "execution_count": 22,
     "metadata": {},
     "output_type": "execute_result"
    }
   ],
   "source": [
    "config = {\n",
    "    'CustomerType': [0],\n",
    "    'Gender': [1],\n",
    "    'Age': [2],\n",
    "    'UnitPrice': [35],\n",
    "    'Rating': [5]\n",
    "    \n",
    "}\n",
    "\n",
    "predict_mpg(config, model)\n"
   ]
  },
  {
   "cell_type": "markdown",
   "metadata": {},
   "source": [
    "# Create Model File"
   ]
  },
  {
   "cell_type": "code",
   "execution_count": 23,
   "metadata": {},
   "outputs": [
    {
     "ename": "NameError",
     "evalue": "name 'x_test' is not defined",
     "output_type": "error",
     "traceback": [
      "\u001b[1;31m---------------------------------------------------------------------------\u001b[0m",
      "\u001b[1;31mNameError\u001b[0m                                 Traceback (most recent call last)",
      "\u001b[1;32m<ipython-input-23-adab6a18ae41>\u001b[0m in \u001b[0;36m<module>\u001b[1;34m\u001b[0m\n\u001b[0;32m     11\u001b[0m \u001b[1;33m\u001b[0m\u001b[0m\n\u001b[0;32m     12\u001b[0m \u001b[1;31m# Calculate the accuracy score and predict target values\u001b[0m\u001b[1;33m\u001b[0m\u001b[1;33m\u001b[0m\u001b[1;33m\u001b[0m\u001b[0m\n\u001b[1;32m---> 13\u001b[1;33m \u001b[0mscore\u001b[0m \u001b[1;33m=\u001b[0m \u001b[0mpickle_model\u001b[0m\u001b[1;33m.\u001b[0m\u001b[0mscore\u001b[0m\u001b[1;33m(\u001b[0m\u001b[0mx_test\u001b[0m\u001b[1;33m,\u001b[0m \u001b[0my_test\u001b[0m\u001b[1;33m)\u001b[0m\u001b[1;33m\u001b[0m\u001b[1;33m\u001b[0m\u001b[0m\n\u001b[0m\u001b[0;32m     14\u001b[0m \u001b[0mprint\u001b[0m\u001b[1;33m(\u001b[0m\u001b[1;34m\"Test score: {0:.2f} %\"\u001b[0m\u001b[1;33m.\u001b[0m\u001b[0mformat\u001b[0m\u001b[1;33m(\u001b[0m\u001b[1;36m100\u001b[0m \u001b[1;33m*\u001b[0m \u001b[0mscore\u001b[0m\u001b[1;33m)\u001b[0m\u001b[1;33m)\u001b[0m\u001b[1;33m\u001b[0m\u001b[1;33m\u001b[0m\u001b[0m\n\u001b[0;32m     15\u001b[0m \u001b[0mYpredict\u001b[0m \u001b[1;33m=\u001b[0m \u001b[0mpickle_model\u001b[0m\u001b[1;33m.\u001b[0m\u001b[0mpredict\u001b[0m\u001b[1;33m(\u001b[0m\u001b[0mx_test\u001b[0m\u001b[1;33m)\u001b[0m\u001b[1;33m\u001b[0m\u001b[1;33m\u001b[0m\u001b[0m\n",
      "\u001b[1;31mNameError\u001b[0m: name 'x_test' is not defined"
     ]
    }
   ],
   "source": [
    "import pickle\n",
    "\n",
    "# Save to file in the current working directory\n",
    "pkl_filename = \"model.pkl\"\n",
    "with open(pkl_filename, 'wb') as file:\n",
    "    pickle.dump(model, file)\n",
    "\n",
    "# Load from file\n",
    "with open(pkl_filename, 'rb') as file:\n",
    "    pickle_model = pickle.load(file)\n",
    "    \n",
    "# Calculate the accuracy score and predict target values\n",
    "score = pickle_model.score(x_test, y_test)\n",
    "print(\"Test score: {0:.2f} %\".format(100 * score))\n",
    "Ypredict = pickle_model.predict(x_test)"
   ]
  },
  {
   "cell_type": "code",
   "execution_count": null,
   "metadata": {},
   "outputs": [],
   "source": [
    "##loading the model from the saved file\n",
    "pkl_filename = \"model.pkl\"\n",
    "with open(pkl_filename, 'rb') as f_in:\n",
    "    model = pickle.load(f_in)\n",
    "\n",
    "predict_mpg(config, model)"
   ]
  },
  {
   "cell_type": "code",
   "execution_count": null,
   "metadata": {},
   "outputs": [],
   "source": []
  }
 ],
 "metadata": {
  "kernelspec": {
   "display_name": "Python 3",
   "language": "python",
   "name": "python3"
  },
  "language_info": {
   "codemirror_mode": {
    "name": "ipython",
    "version": 3
   },
   "file_extension": ".py",
   "mimetype": "text/x-python",
   "name": "python",
   "nbconvert_exporter": "python",
   "pygments_lexer": "ipython3",
   "version": "3.6.8"
  }
 },
 "nbformat": 4,
 "nbformat_minor": 2
}
